{
 "cells": [
  {
   "attachments": {},
   "cell_type": "markdown",
   "metadata": {},
   "source": [
    "# Qwiklabs Assessment: Automate updating catalog information\n",
    "### Introduction\n",
    "\n",
    "You work for an online fruits store, and you need to develop a system that will update the catalog information with data provided by your suppliers. The suppliers send the data as large images with an associated description of the products in two files (.TIF for the image and .txt for the description). The images need to be converted to smaller jpeg images and the text needs to be turned into an HTML file that shows the image and the product description. The contents of the HTML file need to be uploaded to a web service that is already running using Django. You also need to gather the name and weight of all fruits from the .txt files and use a Python request to upload it to your Django server.\n",
    "\n",
    "You will create a Python script that will process the images and descriptions and then update your company's online website to add the new products.\n",
    "\n",
    "Once the task is complete, the supplier should be notified with an email that indicates the total weight of fruit (in lbs) that were uploaded. The email should have a PDF attached with the name of the fruit and its total weight (in lbs). \n",
    "\n",
    "Finally, in parallel to the automation running, we want to check the health of the system and send an email if something goes wrong. \n",
    "What you’ll do\n",
    "\n",
    "    Write a script that summarizes and processes sales data into different categories \n",
    "\n",
    "    Generate a PDF using Python\n",
    "\n",
    "    Automatically send a PDF by email \n",
    "\n",
    "    Write a script to check the health status of the system \n",
    "\n",
    "You'll have 120 minutes to complete this lab."
   ]
  },
  {
   "attachments": {},
   "cell_type": "markdown",
   "metadata": {},
   "source": [
    "# Project Problem Statement\n",
    "\n",
    "Okay, here's the scenario:\n",
    "\n",
    "You work for an online fruit store, and you need to develop a system that will update the catalog information with data provided by your suppliers. When each supplier has new products for your store, they give you an image and a description of each product.\n",
    "\n",
    "Given a bunch of images and descriptions of each of the new products, you’ll:\n",
    "\n",
    "    Upload the new products to your online store. Images and descriptions should be uploaded separately, using two different web endpoints.\n",
    "\n",
    "    Send a report back to the supplier, letting them know what you imported.\n",
    "\n",
    "Since this process is key to your business's success, you need to make sure that it keeps running! So, you’ll also:\n",
    "\n",
    "    Run a script on your web server to monitor system health.\n",
    "\n",
    "    Send an email with an alert if the server is ever unhealthy.\n",
    "\n",
    "Hopefully this summary has helped you start thinking about how you’ll approach this task. In case you’re feeling a little scared, don't worry, you can definitely do this! You have all the necessary tools, and the lab description will go into a lot more detail of what you need to do.\n",
    "\n",
    "Up next, we'll give you a few tips that can help you along the way."
   ]
  },
  {
   "cell_type": "markdown",
   "metadata": {},
   "source": [
    "# How to Approach the Problem\n",
    "\n",
    "We're giving you a pretty big project to do at the end of this course -- but you can totally complete it with what you've learned until now! Take your time, and be methodical. Use these tips to help you:\n",
    "\n",
    "Break the problem down into smaller pieces. If you’re not sure how to solve a piece of the puzzle, look for an even smaller piece that you can solve. Build up those smaller pieces into a larger solution!\n",
    "\n",
    "Make one change at a time. Write unit tests to make sure that each new part of the solution works the way you think it does. Run your unit tests frequently to make sure that each part of your solution keeps working as you make changes.\n",
    "\n",
    "Use version control. Check each part of your solution into version control as you complete it, so you can always roll back to a known version of your code if you make a mistake.\n",
    "\n",
    "Review module documentation! You are going to need to use these modules to complete the final project. Reading the documentation takes time, but as you become more familiar with the APIs provided by these modules, it could save you from writing a bunch of custom code that could have just been a call to a module function! Remember, we’ve covered these modules in previous lessons too, so feel free to go back and review them if you need a refresher!\n",
    "\n",
    "    Python Image Library (PIL) - Tutorial\n",
    "\n",
    "    Requests (HTTP client library) - Quickstart\n",
    "\n",
    "    ReportLab (PDF creation library)\n",
    "\n",
    "    email (constructing email)\n",
    "\n",
    "    psutil (processes and system utilization)\n",
    "\n",
    "    shutil (file operations)\n",
    "\n",
    "    smtplib (sending email)\n",
    "\n",
    "Read the lab instructions carefully! Following the instructions and implementing your solution to the specifications that you’re given are critical to completing the task, and to being accurately graded! "
   ]
  },
  {
   "attachments": {},
   "cell_type": "markdown",
   "metadata": {},
   "source": [
    "### Fetching supplier data\n",
    "\n",
    "You'll first need to get the information from the supplier that is currently stored in a Google Drive file. The supplier has sent data as large images with an associated description of the products in two files (.TIF for the image and .txt for the description).\n",
    "\n",
    "Here, you'll find two script files download_drive_file.sh and the example_upload.py files. You can view it by using the following command.\n",
    "\n",
    "To download the file from the supplier onto our linux-instance virtual machine we will first grant executable permission to the download_drive_file.sh script.\n",
    "\n",
    "`sudo chmod +x ~/download_drive_file.sh`\n",
    "\n",
    "Run the download_drive_file.sh shell script with the following arguments:\n",
    "\n",
    "`./download_drive_file.sh 1LePo57dJcgzoK4uiI_48S01Etck7w_5f supplier-data.tar.gz`\n",
    "\n",
    "You have now downloaded a file named supplier-data.tar.gz containing the supplier's data. Let's extract the contents from this file using the following command:\n",
    "\n",
    "`tar xf ~/supplier-data.tar.gz `\n",
    "\n",
    "This creates a directory named supplier-data, that contains subdirectories named images and descriptions.\n",
    "\n",
    "The subdirectory images contain images of various fruits, while the descriptions subdirectory has text files containing the description of each fruit. You can have a look at any of these text files using cat command.\n",
    "\n",
    "`cat ~/supplier-data/descriptions/007.txt`\n",
    "\n",
    "The first line contains the name of the fruit followed by the weight of the fruit and finally the description of the fruit."
   ]
  },
  {
   "attachments": {},
   "cell_type": "markdown",
   "metadata": {},
   "source": [
    "### Working with supplier images\n",
    "\n",
    "In this section, you will write a Python script named changeImage.py to process the supplier images. You will be using the PIL library to update all images within ~/supplier-data/images directory to the following specifications:\n",
    "\n",
    "* Size: Change image resolution from 3000x2000 to 600x400 pixel\n",
    "* Format: Change image format from .TIFF to .JPEG\n",
    "\n",
    "This is the challenge section, where you will be writing a script that satisfies the above objectives.\n",
    "\n",
    "> Note: The raw images from images subdirectory contains alpha transparency layers. So, it is better to first convert RGBA 4-channel format to RGB 3-channel format before processing the images. Use convert(\"RGB\") method for converting RGBA to RGB image.\n",
    "\n",
    "After processing the images, save them in the same path ~/supplier-data/images, with a JPEG extension.\n"
   ]
  },
  {
   "attachments": {},
   "cell_type": "markdown",
   "metadata": {},
   "source": [
    "#### changeImage.py"
   ]
  },
  {
   "cell_type": "code",
   "execution_count": null,
   "metadata": {},
   "outputs": [],
   "source": [
    "#!/usr/bin/env python3\n",
    "\n",
    "from PIL import Image\n",
    "import os\n",
    "\n",
    "path = \"supplier-data/images\"\n",
    "\n",
    "dirs=[]\n",
    "\n",
    "for dir in os.listdir(path):\n",
    "    if \"tiff\" in dir:\n",
    "        name, ext = os.path.splitext(dir)\n",
    "        full_loc = path + \"/\" + dir\n",
    "        im = Image.open(full_loc)\n",
    "        im = im.resize((600,400)).convert(\"RGB\")\n",
    "        im.save(path + \"/\" + name + \".jpeg\", \"JPEG\")\n",
    "    \n"
   ]
  },
  {
   "attachments": {},
   "cell_type": "markdown",
   "metadata": {},
   "source": [
    "Now, let's check the specifications of the images you just updated. Open any image using the following command:\n",
    "\n",
    "`file ~/supplier-data/images/003.jpeg`"
   ]
  },
  {
   "attachments": {},
   "cell_type": "markdown",
   "metadata": {},
   "source": [
    "### Uploading images to web server\n",
    "\n",
    "You have modified the fruit images through changeImage.py script. Now, you will have to upload these modified images to the web server that is handling the fruit catalog. To do that, you'll have to use the Python requests module to send the file contents to the [linux-instance-IP-Address]/upload URL.\n",
    "\n",
    "Copy the external IP address of your instance from the Connection Details Panel on the left side and enter the IP address in a new web browser tab. This opens a web page displaying the text \"Fruit Catalog\".\n",
    "\n",
    "In the home directory, you'll have a script named example_upload.py to upload images to the running fruit catalog web server. To view the example_upload.py script use the cat command."
   ]
  },
  {
   "attachments": {},
   "cell_type": "markdown",
   "metadata": {},
   "source": [
    "#### example_upload.py"
   ]
  },
  {
   "cell_type": "code",
   "execution_count": null,
   "metadata": {},
   "outputs": [],
   "source": [
    "#!/usr/bin/env python3\n",
    "import requests\n",
    "\n",
    "# This example shows how a file can be uploaded using\n",
    "# The Python Requests module\n",
    "\n",
    "url = \"http://localhost/upload/\"\n",
    "with open('/usr/share/apache2/icons/icon.sheet.png', 'rb') as opened:\n",
    "    r = requests.post(url, files={'file': opened})\n"
   ]
  },
  {
   "attachments": {},
   "cell_type": "markdown",
   "metadata": {},
   "source": [
    "In this script, we are going to upload a sample image named icon.sheet.png.\n",
    "\n",
    "Now check out that the file icon.sheet.png was uploaded to the web server by visiting the URL [linux-instance-IP-Address]/media/images/, followed by clicking on the file name.\n",
    "\n",
    "In a similar way, you are going to write a script named supplier_image_upload.py that takes the jpeg images from the supplier-data/images directory that you've processed previously and uploads them to the web server fruit catalog.\n",
    "\n",
    "Refresh the URL opened earlier, and now you should find all the images uploaded successfully."
   ]
  },
  {
   "attachments": {},
   "cell_type": "markdown",
   "metadata": {},
   "source": [
    "### Uploading the descriptions\n",
    "\n",
    "The Django server is already set up to show the fruit catalog for your company. You can visit the main website by entering linux-instance-IP-Address in the URL bar or by removing /media/images from the existing URL opened earlier. The interface looks like this:\n",
    "\n",
    "Check out the Django REST framework, by navigating to linux-instance-IP-Address/fruits in your browser.\n",
    "\n",
    "Currently, there are no products in the fruit catalog web-server. You can create a test fruit entry by entering the following into the content field:\n",
    "\n",
    "```\n",
    "{\"name\": \"Test Fruit\", \n",
    "\"weight\": 100, \n",
    "\"description\": \"This is the description of my test fruit\", \n",
    "\"image_name\": \"icon.sheet.png\"}\n",
    "```\n",
    "\n",
    "After entering the above data into the content field click on the POST button. Now visit the main page of your website (by going to http://[linux-instance-external-IP]/), and the new test fruit you uploaded appears.\n",
    "\n",
    "To add fruit images and their descriptions from the supplier on the fruit catalog web-server, create a new Python script that will automatically POST the fruit images and their respective description in JSON format.\n",
    "\n",
    "Write a Python script named run.py to process the text files (001.txt, 003.txt ...) from the supplier-data/descriptions directory. The script should turn the data into a JSON dictionary by adding all the required fields, including the image associated with the fruit (image_name), and uploading it to http://[linux-instance-external-IP]/fruits using the Python requests library."
   ]
  },
  {
   "attachments": {},
   "cell_type": "markdown",
   "metadata": {},
   "source": [
    "#### supplier_image_upload.py"
   ]
  },
  {
   "cell_type": "code",
   "execution_count": null,
   "metadata": {},
   "outputs": [],
   "source": [
    "#!/usr/bin/env python3\n",
    "import requests\n",
    "import os\n",
    "\n",
    "# This example shows how a file can be uploaded using\n",
    "# The Python Requests module\n",
    "\n",
    "url = \"http://localhost/upload/\"\n",
    "path = \"supplier-data/images\"\n",
    "\n",
    "dirs=[]\n",
    "\n",
    "for dir in os.listdir(path):\n",
    "    if \"jpeg\" in dir:\n",
    "        name, ext = os.path.splitext(dir)\n",
    "        full_loc = path + \"/\" + dir\n",
    "        with open(full_loc, 'rb') as opened:\n",
    "            r = requests.post(url, files={'file': opened})\n"
   ]
  },
  {
   "attachments": {},
   "cell_type": "markdown",
   "metadata": {},
   "source": [
    "Now, you'll have to process the .txt files (named 001.txt, 002.txt, ...) in the supplier-data/descriptions/ directory and save them in a data structure so that you can then upload them via JSON. Note that all files are written in the following format, with each piece of information on its own line:\n",
    "\n",
    "* name\n",
    "* weight (in lbs)\n",
    "* description\n",
    "\n",
    "The data model in the Django application fruit has the following fields: name, weight, description and image_name. The weight field is defined as an integer field. So when you process the weight information of the fruit from the .txt file, you need to convert it into an integer. For example if the weight is \"500 lbs\", you need to drop \"lbs\" and convert \"500\" to an integer.\n",
    "\n",
    "The image_name field will allow the system to find the image associated with the fruit. Don't forget to add all fields, including the image_name! The final JSON object should be similar to:\n",
    "\n",
    "```\n",
    "{\"name\": \"Watermelon\", \n",
    "\"weight\": 500, \n",
    "\"description\": \"Watermelon is good for relieving heat, eliminating annoyance and quenching thirst. It contains a lot of water, which is good for relieving the symptoms of acute fever immediately. The sugar and salt contained in watermelon can diuretic and eliminate kidney inflammation. Watermelon also contains substances that can lower blood pressure.\", \n",
    "\"image_name\": \"010.jpeg\"}\n",
    "```\n",
    "\n",
    "Iterate over all the fruits and use post method from Python requests library to upload all the data to the URL http://[linux-instance-external-IP]/fruits"
   ]
  },
  {
   "cell_type": "code",
   "execution_count": null,
   "metadata": {},
   "outputs": [],
   "source": [
    "#! /usr/bin/env python3\n",
    "\n",
    "import os\n",
    "import requests\n",
    "import json\n",
    "\n",
    "\n",
    "dirs=[]\n",
    "\n",
    "path = \"supplier-data/descriptions/\"\n",
    "\n",
    "for dir in os.listdir(path):\n",
    "    if \"txt\" in dir:\n",
    "        name, ext = os.path.splitext(dir)\n",
    "\n",
    "        with open(path + \"/\" + dir) as f:\n",
    "          lines = [line.rstrip('\\n') for line in f]\n",
    "\n",
    "          desc={}\n",
    "          desc[\"name\"] = lines[0]\n",
    "          desc[\"weight\"] = lines[1].strip(\" lbs\")\n",
    "          desc[\"description\"] = lines[2]\n",
    "          desc[\"image_name\"] = f\"{name}.jpeg\"\n",
    "\n",
    "          response = requests.post(\"http://34.28.179.72/fruits/\", json=desc)\n",
    "          response.raise_for_status()\n"
   ]
  },
  {
   "attachments": {},
   "cell_type": "markdown",
   "metadata": {},
   "source": [
    "Now go to the main page of your website (by going to http://[linux-instance-IP-Address]/) and check out how the new fruits appear."
   ]
  },
  {
   "attachments": {},
   "cell_type": "markdown",
   "metadata": {},
   "source": [
    "### Generate a PDF report and send it through email\n",
    "\n",
    "Once the images and descriptions have been uploaded to the fruit store web-server, you will have to generate a PDF file to send to the supplier, indicating that the data was correctly processed. To generate PDF reports, you can use the ReportLab library. The content of the report should look like this:\n",
    "\n",
    "**Processed Update on <Today's date>**\n",
    "\n",
    "[blank line]\n",
    "\n",
    "name: Apple\n",
    "\n",
    "weight: 500 lbs\n",
    "\n",
    "[blank line]\n",
    "\n",
    "name: Avocado\n",
    "\n",
    "weight: 200 lbs\n",
    "\n",
    "[blank line]\n",
    "\n",
    "..."
   ]
  },
  {
   "attachments": {},
   "cell_type": "markdown",
   "metadata": {},
   "source": [
    "### Script to generate a PDF report\n",
    "Using the reportlab Python library, define the method generate_report to build the PDF reports. We have already covered how to generate PDF reports in an earlier lesson; you will want to use similar concepts to create a PDF report named processed.pdf."
   ]
  },
  {
   "attachments": {},
   "cell_type": "markdown",
   "metadata": {},
   "source": [
    "#### reports.py"
   ]
  },
  {
   "cell_type": "code",
   "execution_count": null,
   "metadata": {},
   "outputs": [],
   "source": [
    "#!/usr/bin/env python3\n",
    "\n",
    "from reportlab.platypus import SimpleDocTemplate\n",
    "from reportlab.lib.styles import getSampleStyleSheet\n",
    "from reportlab.platypus import Paragraph, Spacer, Table, Image\n",
    "\n",
    "\n",
    "def generate_report(attachment, title, paragraph):\n",
    "  report = SimpleDocTemplate(attachment)\n",
    "  styles = getSampleStyleSheet()\n",
    "  report_title = Paragraph(title, styles[\"h1\"])\n",
    "  report_content = Paragraph(paragraph, styles[\"BodyText\"])\n",
    "  empty_line = Spacer(1,20)\n",
    "\n",
    "  report.build([report_title, empty_line,report_content])"
   ]
  },
  {
   "attachments": {},
   "cell_type": "markdown",
   "metadata": {},
   "source": [
    "### Send report through email\n",
    "\n",
    "Once the PDF is generated, you need to send the email using the emails.generate_email() and emails.send_email() methods.\n",
    "\n",
    "Define generate_email and send_email methods by importing necessary libraries.\n"
   ]
  },
  {
   "attachments": {},
   "cell_type": "markdown",
   "metadata": {},
   "source": [
    "#### emails.py"
   ]
  },
  {
   "cell_type": "code",
   "execution_count": null,
   "metadata": {},
   "outputs": [],
   "source": [
    "#!/usr/bin/env python3\n",
    "\n",
    "import email.message\n",
    "import mimetypes\n",
    "import os.path\n",
    "import smtplib\n",
    "\n",
    "\n",
    "def generate(sender, recipient, subject, body, *attachments):\n",
    "    message = email.message.EmailMessage()\n",
    "    message[\"From\"] = sender\n",
    "    message[\"To\"] = recipient\n",
    "    message[\"Subject\"] = subject\n",
    "    message.set_content(body)\n",
    "\n",
    "    for attachement in attachments:\n",
    "        attachment_path = os.path.basename(attachement)\n",
    "        mime_type, _ = mimetypes.guess_type(attachement)\n",
    "        mime_type, mime_subtype = mime_type.split('/', 1)\n",
    "\n",
    "        with open(attachement, 'rb') as ap:\n",
    "            message.add_attachment(ap.read(), maintype=mime_type, subtype=mime_subtype, filename=attachment_path)\n",
    "        \n",
    "    return message\n",
    "\n",
    "def send_email(message):\n",
    "  mail_server = smtplib.SMTP('localhost')\n",
    "  mail_server.send_message(message)\n",
    "  mail_server.quit()\n"
   ]
  },
  {
   "attachments": {},
   "cell_type": "markdown",
   "metadata": {},
   "source": [
    "Create another script named report_email.py to process supplier fruit description data from supplier-data/descriptions directory. Use the following command to create report_email.py.\n",
    "\n",
    "Import all the necessary libraries(os, datetime and reports) that will be used to process the text data from the supplier-data/descriptions directory into the format below:\n",
    "\n",
    "name: Apple\n",
    "\n",
    "weight: 500 lbs\n",
    "\n",
    "[blank line]\n",
    "\n",
    "name: Avocado\n",
    "\n",
    "weight: 200 lbs\n",
    "\n",
    "[blank line]\n",
    "\n",
    "...\n",
    "\n",
    "Once you have completed this, call the main method which will process the data and call the generate_report method from the reports module:\n",
    "\n",
    "You will need to pass the following arguments to the reports.generate_report method: the text description processed from the text files as the paragraph argument, the report title as the title argument, and the file path of the PDF to be generated as the attachment argument (use ‘/tmp/processed.pdf')\n",
    "\n",
    "`  reports.generate_report(attachment, title, paragraph)`\n",
    "\n",
    "Once you define the generate_email and send_email methods, call the methods under the main method after creating the PDF report:\n",
    "\n",
    "Use the following details to pass the parameters to emails.generate_email():\n",
    "\n",
    "* From: automation@example.com\n",
    "* To: username@example.com  -- Replace username with the username given in the Connection Details Panel on the right hand side.\n",
    "* Subject line: Upload Completed - Online Fruit Store\n",
    "* E-mail Body: All fruits are uploaded to our website successfully. A detailed list is attached to this email.\n",
    "* Attachment: Attach the path to the file processed.pdf\n"
   ]
  },
  {
   "cell_type": "markdown",
   "metadata": {},
   "source": [
    "#### report_email.py"
   ]
  },
  {
   "cell_type": "code",
   "execution_count": null,
   "metadata": {},
   "outputs": [],
   "source": [
    "#!/usr/bin/env python3\n",
    "\n",
    "import os\n",
    "from datetime import datetime\n",
    "import sys\n",
    "import reports\n",
    "import emails\n",
    "\n",
    "\n",
    "def write_content(path):\n",
    "    report_content = \"\"\n",
    "    for dir in os.listdir(path):\n",
    "        if \"txt\" in dir: \n",
    "            with open(path + \"/\" + dir) as f:\n",
    "                lines = [line.rstrip('\\n') for line in f]\n",
    "                \n",
    "                report_content += \"name: {}\".format(lines[0])\n",
    "                report_content += \"<br />\"\n",
    "                report_content += \"weight: {}\".format(lines[1])\n",
    "                report_content += \"<br />\"\n",
    "    return report_content\n",
    "\n",
    "def write_title():\n",
    "    str_tdy = datetime.today().strftime('%Y-%m-%d')\n",
    "    title = \"Processed Update on {}\".format(str_tdy)\n",
    "    return title\n",
    "\n",
    "def main(argv):\n",
    "    path = \"supplier-data/descriptions/\"\n",
    "    report_title = write_title()\n",
    "    report_content = write_content(path)\n",
    "    reports.generate_report(\"/tmp/processed.pdf\", report_title, report_content)\n",
    "\n",
    "    sender = \"automation@example.com\"\n",
    "    receiver = \"{}@example.com\".format(os.environ.get('USER'))\n",
    "    subject = \"Upload Completed - Online Fruit Store\"\n",
    "    body = \"All fruits are uploaded to our website successfully. A detailed list is attached to this email.\"\n",
    "    message = emails.generate(sender, receiver, subject, body, \"/tmp/processed.pdf\")\n",
    "    emails.send_email(message)\n",
    "\n",
    "\n",
    "if __name__ == \"__main__\":\n",
    "    main(sys.argv)"
   ]
  },
  {
   "attachments": {},
   "cell_type": "markdown",
   "metadata": {},
   "source": [
    "Now, check the webmail by visiting [linux-instance-external-IP]/webmail. Here, you'll need a login to roundcube using the username and password mentioned in the Connection Details Panel on the left hand side, followed by clicking Login.\n",
    "\n",
    "Now you should be able to see your inbox, with one unread email. Open the mail by double clicking on it. There should be a report in PDF format attached to the mail. View the report by opening it."
   ]
  },
  {
   "attachments": {},
   "cell_type": "markdown",
   "metadata": {},
   "source": [
    "### Health check\n",
    "\n",
    "This is the last part of the lab, where you will have to write a Python script named health_check.py that will run in the background monitoring some of your system statistics: CPU usage, disk space, available memory and name resolution. Moreover, this Python script should send an email if there are problems, such as:\n",
    "\n",
    "* Report an error if CPU usage is over 80%\n",
    "* Report an error if available disk space is lower than 20%\n",
    "* Report an error if available memory is less than 500MB\n",
    "* Report an error if the hostname \"localhost\" cannot be resolved to \"127.0.0.1\"\n"
   ]
  },
  {
   "attachments": {},
   "cell_type": "markdown",
   "metadata": {},
   "source": [
    "Import the necessary Python libraries (eg. shutil, psutil) to write this script.\n",
    "\n",
    "Complete the script to check the system statistics every 60 seconds, and in event of any issues detected among the ones mentioned above, an email should be sent with the following content:\n",
    "\n",
    "* From: automation@example.com\n",
    "* To: username@example.com -- Replace username with the username given in the Connection Details Panel on the right hand side.\n",
    "* Subject line:\n",
    "```\n",
    "    CPU usage is over 80%                                              Error - CPU usage is over 80%\n",
    "    Available disk space is lower than 20%                             Error - Available disk space is less than 20%\n",
    "    available memory is less than 500MB                                Error - Available memory is less than 500MB\n",
    "    hostname \"localhost\" cannot be resolved to \"127.0.0.1\"             Error - localhost cannot be resolved to 127.0.0.1\n",
    "```\n",
    "* E-mail Body: Please check your system and resolve the issue as soon as possible.\n",
    "\n",
    "> Note: There is no attachment file here, so you must be careful while defining the generate_email() method in the emails.py script or you can create a separate generate_error_report() method for handling non-attachment email.\n"
   ]
  },
  {
   "cell_type": "code",
   "execution_count": 12,
   "metadata": {},
   "outputs": [
    {
     "name": "stdout",
     "output_type": "stream",
     "text": [
      "Error - CPU usage is over 80%\n"
     ]
    }
   ],
   "source": [
    "#!/usr/bin/env python3\n",
    "\n",
    "import psutil\n",
    "import shutil\n",
    "import socket\n",
    "import sys\n",
    "import emails\n",
    "\n",
    "def health_check():\n",
    "    CPU_percent = psutil.cpu_percent()\n",
    "    disk_usage = psutil.disk_usage('/').percent\n",
    "    avail_mem = psutil.virtual_memory().available/ 1024 ** 2 \n",
    "    local_host = socket.gethostbyname('localhost')\n",
    "\n",
    "    conditions=[0,0,0,0]\n",
    "\n",
    "    if CPU_percent > 80: conditions[0] = \"Error - CPU usage is over 80%\"\n",
    "    if disk_usage < 0.2: conditions[1] = \"Error - Available disk space is less than 20%\"\n",
    "    if avail_mem < 500: conditions[2] = \"Error - Available memory is less than 500MB\"\n",
    "    if local_host != \"127.0.0.1\": conditions[3] = \"Error - localhost cannot be resolved to 127.0.0.1\"\n",
    "\n",
    "    return conditions\n",
    "\n",
    "def send_email(conditions):\n",
    "    sender = \"automation@example.com\"\n",
    "    receiver = \"{}@example.com\".format(os.environ.get('USER'))\n",
    "    subject = \" & \".join(str(condition) for condition in conditions if condition != 0)\n",
    "    body = \"Please check your system and resolve the issue as soon as possible.\"\n",
    "    message = emails.generate(sender, receiver, subject, body, \"/tmp/processed.pdf\")\n",
    "    emails.send_email(message)\n",
    "\n",
    "\n",
    "def main(argv):\n",
    "    conditions = health_check()\n",
    "    if conditions != [0,0,0,0]:\n",
    "        send_email(conditions)\n",
    "\n",
    "if __name__ == \"__main__\":\n",
    "    main(sys.argv)"
   ]
  },
  {
   "attachments": {},
   "cell_type": "markdown",
   "metadata": {},
   "source": [
    "Next, go to the webmail inbox and refresh it. There should only be an email something goes wrong, so hopefully you don't see a new email.\n",
    "\n",
    "To test out your script, you can install the stress tool.\n",
    "\n",
    "`sudo apt install stress`\n",
    "\n",
    "Next, call the tool using a good number of CPUs to fully load our CPU resources:\n",
    "\n",
    "`stress --cpu 8`\n",
    "\n",
    "Allow the stress test to run, as it will maximize our CPU utilization. Now run health_check.py by opening another SSH connection to the linux-instance. Navigate to Accessing the virtual machine on the navigation pane on the right-hand side to open another connection to the instance.\n",
    "\n",
    "Now run the script:\n",
    "\n",
    "`./health_check.py`\n",
    "\n",
    "Check your inbox for any new email.\n",
    "\n",
    "Open the email with the subject \"Error - CPU usage is over 80%\" by double clicking it."
   ]
  },
  {
   "attachments": {},
   "cell_type": "markdown",
   "metadata": {},
   "source": [
    "Close the stress --cpu command by clicking Ctrl-c.\n",
    "\n",
    "Now, you will be setting a cron job that executes the script health_check.py every 60 seconds and sends health status to the respective user.\n",
    "\n",
    "To set a user cron job use the following command:\n",
    "\n",
    "`crontab -e`\n",
    "\n",
    "Enter 1 to open in the nano editor. Now, set the complete path for health_check.py script, and save by clicking Ctrl-o, Enter key, and Ctrl-x."
   ]
  },
  {
   "cell_type": "markdown",
   "metadata": {},
   "source": []
  }
 ],
 "metadata": {
  "kernelspec": {
   "display_name": "Python 3",
   "language": "python",
   "name": "python3"
  },
  "language_info": {
   "codemirror_mode": {
    "name": "ipython",
    "version": 3
   },
   "file_extension": ".py",
   "mimetype": "text/x-python",
   "name": "python",
   "nbconvert_exporter": "python",
   "pygments_lexer": "ipython3",
   "version": "3.10.2 (v3.10.2:a58ebcc701, Jan 13 2022, 14:50:16) [Clang 13.0.0 (clang-1300.0.29.30)]"
  },
  "orig_nbformat": 4,
  "vscode": {
   "interpreter": {
    "hash": "aee8b7b246df8f9039afb4144a1f6fd8d2ca17a180786b69acc140d282b71a49"
   }
  }
 },
 "nbformat": 4,
 "nbformat_minor": 2
}
