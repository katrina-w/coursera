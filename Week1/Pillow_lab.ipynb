{
 "cells": [
  {
   "attachments": {},
   "cell_type": "markdown",
   "metadata": {},
   "source": [
    "# Case\n",
    "\n",
    "changing the images from \n",
    "1. tiff extention\n",
    "2. size of random\n",
    "\n",
    "to \n",
    "\n",
    "1. jpg extention\n",
    "2. 128*128\n",
    "3. rotate anti-clockwise 90 degree"
   ]
  },
  {
   "cell_type": "code",
   "execution_count": 32,
   "metadata": {},
   "outputs": [],
   "source": [
    "#!/usr/bin/env python3\n",
    "\n",
    "from PIL import Image\n",
    "import os\n",
    "\n",
    "cwd = os.getcwd()\n",
    "\n",
    "for root, dirs, files in os.walk(\".\"):\n",
    "    for file in files:\n",
    "        name, ext = os.path.splitext(file)\n",
    "        if ext == \".jpg\":\n",
    "            im = Image.open(file)\n",
    "            im = im.rotate(270).resize((128,128)).convert(\"RGB\")\n",
    "            im.save(cwd + \"/worked/\" + name + \".tiff\", \"JPEG\")\n"
   ]
  }
 ],
 "metadata": {
  "kernelspec": {
   "display_name": "Python 3.10.2 64-bit",
   "language": "python",
   "name": "python3"
  },
  "language_info": {
   "codemirror_mode": {
    "name": "ipython",
    "version": 3
   },
   "file_extension": ".py",
   "mimetype": "text/x-python",
   "name": "python",
   "nbconvert_exporter": "python",
   "pygments_lexer": "ipython3",
   "version": "3.10.2 (v3.10.2:a58ebcc701, Jan 13 2022, 14:50:16) [Clang 13.0.0 (clang-1300.0.29.30)]"
  },
  "orig_nbformat": 4,
  "vscode": {
   "interpreter": {
    "hash": "aee8b7b246df8f9039afb4144a1f6fd8d2ca17a180786b69acc140d282b71a49"
   }
  }
 },
 "nbformat": 4,
 "nbformat_minor": 2
}
