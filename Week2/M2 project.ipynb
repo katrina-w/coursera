{
 "cells": [
  {
   "cell_type": "markdown",
   "metadata": {},
   "source": [
    "# Project Problem Statement\n",
    "To complete this module, you'll write a script that interacts with a running web service.  The web service is part of your company's website and is in charge of storing and displaying the customer reviews of the company.\n",
    "\n",
    "The reviews are stored in text files in the local disk. Your script should open those files, process the information to turn it into the format expected by the web service, then send it to the web service to get stored.\n",
    "\n",
    "For this lab, the service is running on the same machine, and you can actually look at how all of it is implemented, if you want.  But you don't need to change the service implementation to complete the exercise.\n",
    "\n",
    "Remember that you can take your time to prepare the code that you’ll write. You can start the lab later on, once you have a good idea of what you'll do and how you'll do it.\n",
    "\n",
    "Also, feel free to check out the resources that we pointed to as many times as you need.\n",
    "\n",
    "Good luck, you've got this!"
   ]
  },
  {
   "attachments": {},
   "cell_type": "markdown",
   "metadata": {},
   "source": [
    "## Process Text Files with Python Dictionaries and Upload to Running Web Service"
   ]
  },
  {
   "attachments": {},
   "cell_type": "markdown",
   "metadata": {},
   "source": [
    "### Introduction\n",
    "\n",
    "You're working at a company that sells second-hand cars. Your company constantly collects feedback in the form of customer reviews. Your manager asks you to take those reviews (saved as .txt files) and display them on your company's website. To do this, you'll need to write a script to convert those .txt files and process them into Python dictionaries, then upload the data onto your company's website (currently using Django).\n",
    "\n",
    "### What you'll do\n",
    "\n",
    "    Use the Python OS module to process a directory of text files\n",
    "    Manage information stored in Python dictionaries\n",
    "    Use the Python requests module to upload content to a running Web service\n",
    "    Understand basic operations for Python requests like GET and POST methods\n",
    "\n",
    "You'll have 90 minutes to complete this lab.\n"
   ]
  },
  {
   "attachments": {},
   "cell_type": "markdown",
   "metadata": {},
   "source": [
    "### Web server corpweb\n",
    "\n",
    "Django is a high-level Python Web framework that encourages rapid development and clean, pragmatic design. A Web framework is a set of components that provide a standard way to develop websites quickly and easily.\n",
    "\n",
    "For this lab, a Django web server corpweb is already configured under /projects/corpweb directory. You can check it out by visiting the external IP address of the corpweb VM. The external IP address can be found in the connection details panel. Enter the corpweb external IP address in a new separate browser tab."
   ]
  },
  {
   "attachments": {},
   "cell_type": "markdown",
   "metadata": {},
   "source": [
    "This is a web interface for a REST end-point. Through this end-point, you can enter feedback that can be displayed on the company's website. You can use this end-point in the example below. Start by copying and pasting the following JSON to the Content field on the website, and click POST.\n",
    "```\n",
    "{\"title\": \"Experienced salespeople\", \"name\": \"Alex H.\", \"date\": \"2020-02-02\", \"feedback\": \"It was great to talk to the salespeople in the team, they understood my needs and were able to guide me in the right direction\"}\n",
    "```"
   ]
  },
  {
   "attachments": {},
   "cell_type": "markdown",
   "metadata": {},
   "source": [
    "The whole website is stored in /projects/corpweb. You're free to look around the configuration files. Also, there's no need to make any changes to the website; all interaction should be done through the REST end-point.\n"
   ]
  },
  {
   "attachments": {},
   "cell_type": "markdown",
   "metadata": {},
   "source": [
    "### Process text files and upload to running web server\n",
    "\n",
    "In this section, you'll write a Python script that will upload the feedback automatically without having to turn it into a dictionary.\n",
    "\n",
    "Navigate to /data/feedback directory, where you'll find a few .txt files with customer reviews for the company."
   ]
  },
  {
   "attachments": {},
   "cell_type": "markdown",
   "metadata": {},
   "source": [
    "They're all written in the same format (i.e. title, name, date, and feedback).\n",
    "\n",
    "Here comes the challenge section of the lab, where you'll write a Python script that uploads all the feedback stored in this folder to the company's website, without having to turn it into a dictionary one by one.\n",
    "\n",
    "Now, navigate back to the home directory and create a Python script named run.py using the following command:"
   ]
  },
  {
   "cell_type": "code",
   "execution_count": null,
   "metadata": {},
   "outputs": [],
   "source": [
    "#! /usr/bin/env python3\n",
    "\n",
    "import os\n",
    "import requests\n",
    "\n",
    "dirs=[]\n",
    "\n",
    "path = \"data/feedback/\"\n",
    "\n",
    "for dir in os.listdir(path):\n",
    "    if \"txt\" in dir:\n",
    "        dirs.append(dir)\n",
    "\n",
    "for dir in dirs:\n",
    "    with open(path + \"/\" + dir) as f:\n",
    "        lines = [line.rstrip('\\n') for line in f]\n",
    "\n",
    "        feedback={}\n",
    "        feedback[\"title\"] = lines[0]\n",
    "        feedback[\"name\"] = lines[1]\n",
    "        feedback[\"date\"] = lines[2]\n",
    "        feedback[\"feedback\"] = lines[3]\n",
    "        \n",
    "        response = requests.post(\"http://34.72.214.255/feedback/\", data=feedback)\n",
    "        print(response.status_code)\n",
    "\n"
   ]
  },
  {
   "cell_type": "code",
   "execution_count": null,
   "metadata": {},
   "outputs": [],
   "source": [
    "#! /usr/bin/env python3\n",
    "\n",
    "import os\n",
    "import requests\n",
    "\n",
    "path = \"data/feedback/\"\n",
    "ip = \"34.72.214.255\"\n",
    "\n",
    "def get_txt(path):\n",
    "    dirs=[]\n",
    "    for dir in os.listdir(path):\n",
    "        if \"txt\" in dir:\n",
    "            dirs.append(dir)\n",
    "    return dirs\n",
    "\n",
    "def txt_to_feedback(file):\n",
    "    with open(file) as f:\n",
    "        lines = [line.rstrip('\\n') for line in f]\n",
    "\n",
    "        feedback={}\n",
    "        feedback[\"title\"] = lines[0]\n",
    "        feedback[\"name\"] = lines[1]\n",
    "        feedback[\"date\"] = lines[2]\n",
    "        feedback[\"feedback\"] = lines[3]\n",
    "    return feedback\n",
    "\n",
    "def post_feedback(json):\n",
    "    response = requests.post(f\"http:/{IP}/feedback/\", data=json)\n",
    "    print(response.status_code)\n",
    "\n",
    "def main():\n",
    "    dirs = get_txt(path)\n",
    "    for dir in dirs:\n",
    "        file = path + \"/\" + dir\n",
    "        feedback = txt_to_feedback(file)\n",
    "        post_feedback(feedback)\n",
    "\n",
    "if __name__ == '__main__':\n",
    "    main()"
   ]
  },
  {
   "cell_type": "code",
   "execution_count": null,
   "metadata": {},
   "outputs": [],
   "source": []
  }
 ],
 "metadata": {
  "kernelspec": {
   "display_name": "Python 3",
   "language": "python",
   "name": "python3"
  },
  "language_info": {
   "codemirror_mode": {
    "name": "ipython",
    "version": 3
   },
   "file_extension": ".py",
   "mimetype": "text/x-python",
   "name": "python",
   "nbconvert_exporter": "python",
   "pygments_lexer": "ipython3",
   "version": "3.10.2"
  },
  "orig_nbformat": 4,
  "vscode": {
   "interpreter": {
    "hash": "aee8b7b246df8f9039afb4144a1f6fd8d2ca17a180786b69acc140d282b71a49"
   }
  }
 },
 "nbformat": 4,
 "nbformat_minor": 2
}
